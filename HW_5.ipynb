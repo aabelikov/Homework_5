{
 "cells": [
  {
   "cell_type": "markdown",
   "metadata": {},
   "source": [
    "# Домашнее задание к лекции \"Функции\" (Беликов Александр)"
   ]
  },
  {
   "cell_type": "markdown",
   "metadata": {},
   "source": [
    "Вам нужно помочь секретарю автоматизировать работу. Для этого нужно написать программу, которая будет на основе хранимых данных исполнять пользовательские команды.\n",
    "Исходные данные имеют следующую структуру:"
   ]
  },
  {
   "cell_type": "code",
   "execution_count": 1,
   "metadata": {},
   "outputs": [],
   "source": [
    "# 1.перечень всех документов\n",
    "documents = [\n",
    " {'type': 'passport', 'number': '2207 876234', 'name': 'Василий Гупкин'},\n",
    " {'type': 'invoice', 'number': '11-2', 'name': 'Геннадий Покемонов'},\n",
    " {'type': 'insurance', 'number': '10006', 'name': 'Аристарх Павлов'}\n",
    "]"
   ]
  },
  {
   "cell_type": "code",
   "execution_count": 2,
   "metadata": {},
   "outputs": [],
   "source": [
    "# 2. перечень полок, на которых хранятся документы (если документ есть в documents, то он обязательно должен быть и в directories)\n",
    "directories = {\n",
    " '1': ['2207 876234', '11-2'],\n",
    " '2': ['10006'],\n",
    " '3': []\n",
    "}"
   ]
  },
  {
   "cell_type": "markdown",
   "metadata": {},
   "source": [
    "Общие требования к программе:\n",
    "код должен быть грамотно декомпозирован (каждая функция отвечает за свою конкретную задачу, дублирующийся функционал переиспользуется, а его код не повторяется);\n",
    "в коде отсутствуют глобальные переменные (за исключением documents и directories);\n",
    "пользовательский ввод обрабатывается в цикле while до тех пор, пока пользователь явно не завершит программу (вводом команды \"q\")."
   ]
  },
  {
   "cell_type": "markdown",
   "metadata": {},
   "source": [
    "### Задание 1\n",
    "Пункт 1. Пользователь по команде \"p\" может узнать владельца документа по его номеру"
   ]
  },
  {
   "cell_type": "code",
   "execution_count": 3,
   "metadata": {},
   "outputs": [],
   "source": [
    "def owner():\n",
    "    document_number = input(\"Введите номер документа: \")\n",
    "    owner_search = False\n",
    "    for document in documents:\n",
    "        if document_number == document[\"number\"]:\n",
    "            owner_name = document[\"name\"]\n",
    "            print(f\"Владелец документа: {owner_name}\")\n",
    "    if owner_name == None:\n",
    "        print(\"Документ не найден в базе.\")"
   ]
  },
  {
   "cell_type": "markdown",
   "metadata": {},
   "source": [
    "Пункт 2. Пользователь по команде \"s\" может по номеру документа узнать на какой полке он хранится"
   ]
  },
  {
   "cell_type": "code",
   "execution_count": 4,
   "metadata": {},
   "outputs": [],
   "source": [
    "def shelf():\n",
    "    docs_number = input(\"Введите номер документа: \")\n",
    "    shelf_search = False\n",
    "    for shelfs, docs in directories.items():\n",
    "        if docs_number in docs:\n",
    "            shelf_search = True\n",
    "            shelf_result = shelfs\n",
    "            print(f\"Документ хранится на полке: {shelfs}\")   \n",
    "    if not shelf_search:\n",
    "        print(\"Документ не найден в базе.\")"
   ]
  },
  {
   "cell_type": "markdown",
   "metadata": {},
   "source": [
    "Пункт 3. Пользователь по команде \"l\" может увидеть полную информацию по всем документам"
   ]
  },
  {
   "cell_type": "code",
   "execution_count": 5,
   "metadata": {},
   "outputs": [],
   "source": [
    "def full_data():\n",
    "    for document in documents:\n",
    "        for num, values in directories.items():\n",
    "            if document[\"number\"] in values:\n",
    "                shelf_num = num\n",
    "        print(\"№: \", document[\"number\"], \",\", \"тип: \", document[\"type\"], \",\", \"Владелец: \", document[\"name\"], \",\" , \"Полка хранения: \", shelf_num)"
   ]
  },
  {
   "cell_type": "markdown",
   "metadata": {},
   "source": [
    "Пункт 4. Пользователь по команде \"ads\" может добавить новую полку"
   ]
  },
  {
   "cell_type": "code",
   "execution_count": 6,
   "metadata": {},
   "outputs": [],
   "source": [
    "def add_shelf():\n",
    "    shelf_number = input(\"Введите номер полки: \")\n",
    "    if shelf_number in directories.keys():\n",
    "        print(f\"Такая полка уже существует. Текущий перечень полок: {list(directories.keys())}.\") \n",
    "    else:\n",
    "        directories[shelf_number]=[]\n",
    "        print(f\"Полка добавлена. Текущий перечень полок: {list(directories.keys())}.\")"
   ]
  },
  {
   "cell_type": "markdown",
   "metadata": {},
   "source": [
    "Пункт 5. Пользователь по команде \"ds\" может удалить существующую полку из данных (только если она пустая)"
   ]
  },
  {
   "cell_type": "code",
   "execution_count": 7,
   "metadata": {},
   "outputs": [],
   "source": [
    "def delete_shelf(): \n",
    "    shelf_number_del = input(\"Введите номер полки: \")\n",
    "    if shelf_number_del in directories.keys() and directories[shelf_number_del] == []:\n",
    "        del directories[shelf_number_del]\n",
    "        print(f\"Полка удалена. Текущий перечень полок: {list(directories.keys())}.\")\n",
    "    elif shelf_number_del in directories and directories[shelf_number_del] != []:\n",
    "        print(f\"На полке есть документа, удалите их перед удалением полки. Текущий перечень полок: {list(directories.keys())}.\")\n",
    "    else:\n",
    "        print(f\"Такой полки не существует. Текущий перечень полок: {list(directories.keys())}.\")"
   ]
  },
  {
   "cell_type": "code",
   "execution_count": 8,
   "metadata": {},
   "outputs": [],
   "source": [
    "def main():\n",
    "    while True:\n",
    "        imput_command = input(\"Введите команду: \")\n",
    "        if imput_command == \"p\":\n",
    "            owner()\n",
    "        elif imput_command == \"s\":\n",
    "            shelf()\n",
    "        elif imput_command == \"l\":\n",
    "            full_data()\n",
    "        elif imput_command == \"ads\":\n",
    "            add_shelf()\n",
    "        elif imput_command == \"ds\":\n",
    "            delete_shelf()\n",
    "            break"
   ]
  },
  {
   "cell_type": "code",
   "execution_count": 9,
   "metadata": {},
   "outputs": [
    {
     "name": "stdout",
     "output_type": "stream",
     "text": [
      "Введите команду: l\n",
      "№:  2207 876234 , тип:  passport , Владелец:  Василий Гупкин , Полка хранения:  1\n",
      "№:  11-2 , тип:  invoice , Владелец:  Геннадий Покемонов , Полка хранения:  1\n",
      "№:  10006 , тип:  insurance , Владелец:  Аристарх Павлов , Полка хранения:  2\n",
      "Введите команду: p\n",
      "Введите номер документа: 11-2\n",
      "Владелец документа: Геннадий Покемонов\n",
      "Введите команду: s\n",
      "Введите номер документа: 11-2\n",
      "Документ хранится на полке: 1\n",
      "Введите команду: ads\n",
      "Введите номер полки: 5\n",
      "Полка добавлена. Текущий перечень полок: ['1', '2', '3', '5'].\n",
      "Введите команду: ds\n",
      "Введите номер полки: 5\n",
      "Полка удалена. Текущий перечень полок: ['1', '2', '3'].\n"
     ]
    }
   ],
   "source": [
    "main()"
   ]
  },
  {
   "cell_type": "code",
   "execution_count": null,
   "metadata": {},
   "outputs": [],
   "source": []
  }
 ],
 "metadata": {
  "kernelspec": {
   "display_name": "Python 3",
   "language": "python",
   "name": "python3"
  },
  "language_info": {
   "codemirror_mode": {
    "name": "ipython",
    "version": 3
   },
   "file_extension": ".py",
   "mimetype": "text/x-python",
   "name": "python",
   "nbconvert_exporter": "python",
   "pygments_lexer": "ipython3",
   "version": "3.7.6"
  }
 },
 "nbformat": 4,
 "nbformat_minor": 4
}
